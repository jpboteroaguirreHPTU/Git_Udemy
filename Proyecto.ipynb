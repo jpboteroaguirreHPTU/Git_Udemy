{
 "cells": [
  {
   "cell_type": "markdown",
   "id": "12cfc1b2",
   "metadata": {},
   "source": [
    "# AUDITORÍA VALORES CRÍTICOS RADIOLOGÍA"
   ]
  },
  {
   "cell_type": "code",
   "execution_count": null,
   "id": "abce7835",
   "metadata": {},
   "outputs": [],
   "source": [
    "import pandas as pd\n"
   ]
  }
 ],
 "metadata": {
  "language_info": {
   "name": "python"
  }
 },
 "nbformat": 4,
 "nbformat_minor": 5
}
